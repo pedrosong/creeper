{
 "cells": [
  {
   "cell_type": "markdown",
   "metadata": {},
   "source": [
    "# urllib"
   ]
  },
  {
   "cell_type": "markdown",
   "metadata": {},
   "source": [
    "## urlopen"
   ]
  },
  {
   "cell_type": "raw",
   "metadata": {},
   "source": [
    "urllib.request.urlopen(url, data=None, [timeout, ]*, cafile=None, capath=None, cadefault=False, context=None)"
   ]
  },
  {
   "cell_type": "code",
   "execution_count": 1,
   "metadata": {
    "collapsed": false,
    "scrolled": true,
    "tags": [
     "outputPrepend"
    ]
   },
   "outputs": [
    {
     "output_type": "stream",
     "name": "stdout",
     "text": [
      ".com\":\"sp1.baidu.com\\/-L-Xsjip0QIZ8tyhnq\",\"dj2.baidu.com\":\"sp2.baidu.com\\/-L-Ysjip0QIZ8tyhnq\",\"eclick.baidu.com\":\"sp3.baidu.com\\/-0U_dTmfKgQFm2e88IuM_a\",\"a.hiphotos.baidu.com\":\"dss0.baidu.com\\/94o3dSag_xI4khGko9WTAnF6hhy\",\"b.hiphotos.baidu.com\":\"dss1.baidu.com\\/9vo3dSag_xI4khGko9WTAnF6hhy\",\"c.hiphotos.baidu.com\":\"dss3.baidu.com\\/9fo3dSag_xI4khGko9WTAnF6hhy\",\"d.hiphotos.baidu.com\":\"dss0.baidu.com\\/-Po3dSag_xI4khGko9WTAnF6hhy\",\"e.hiphotos.baidu.com\":\"dss1.baidu.com\\/-4o3dSag_xI4khGko9WTAnF6hhy\",\"f.hiphotos.baidu.com\":\"dss2.baidu.com\\/-vo3dSag_xI4khGko9WTAnF6hhy\",\"g.hiphotos.baidu.com\":\"dss3.baidu.com\\/-fo3dSag_xI4khGko9WTAnF6hhy\",\"h.hiphotos.baidu.com\":\"dss0.baidu.com\\/7Po3dSag_xI4khGko9WTAnF6hhy\",\"bdimg.share.baidu.com\":\"dss1.baidu.com\\/9rA4cT8aBw9FktbgoI7O1ygwehsv\",\"s.share.baidu.com\":\"sp0.baidu.com\\/5foZdDe71MgCo2Kml5_Y_D3\",\"s1.bdstatic.com\":\"dss1.bdstatic.com\\/5eN1bjq8AAUYm2zgoY3K\",\"p2.youxi.bdimg.com\":\"dss2.bdstatic.com\\/5OZ1hTW64A63otebn9fN2DJv\",\"youxi.baidu.com\":\"sp3.baidu.com\\/y0kThD4a2gU2pMbgoY3K\",\"fm.baidu.com\":\"dss3.baidu.com\\/-rd1bjeh1BF3odCf\",\"music.baidu.com\":\"dss2.baidu.com\\/8_1ZdTna2gU2pMbgoY3K\",\"f3.baidu.com\":\"sp2.baidu.com\\/-uV1bjeh1BF3odCf\",\"sclick.baidu.com\":\"sp0.baidu.com\\/5bU_dTmfKgQFm2e88IuM_a\",\"1.su.bdimg.com\":\"dss0.bdstatic.com\\/k4oZeXSm1A5BphGlnYG\",\"2.su.bdimg.com\":\"dss1.bdstatic.com\\/kvoZeXSm1A5BphGlnYG\",\"3.su.bdimg.com\":\"dss2.bdstatic.com\\/kfoZeXSm1A5BphGlnYG\",\"4.su.bdimg.com\":\"dss3.bdstatic.com\\/lPoZeXSm1A5BphGlnYG\",\"5.su.bdimg.com\":\"dss0.bdstatic.com\\/l4oZeXSm1A5BphGlnYG\",\"6.su.bdimg.com\":\"dss1.bdstatic.com\\/lvoZeXSm1A5BphGlnYG\",\"7.su.bdimg.com\":\"dss2.bdstatic.com\\/lfoZeXSm1A5BphGlnYG\",\"8.su.bdimg.com\":\"dss3.bdstatic.com\\/iPoZeXSm1A5BphGlnYG\",\"nssug.baidu.com\":\"sp1.baidu.com\\/8qUZeT8a2gU2pMbgoY3K\",\"up.photo.baidu.com\":\"sp0.baidu.com\\/6_R1fD_bAAd3otqbppnN2DJv\",\"suggestion.baidu.com\":\"sp0.baidu.com\\/5a1Fazu8AA54nxGko9WTAnF6hhy\",\"t10.baidu.com\":\"dss0.baidu.com\\/6ONWsjip0QIZ8tyhnq\",\"t11.baidu.com\":\"dss1.baidu.com\\/6ONXsjip0QIZ8tyhnq\",\"t12.baidu.com\":\"dss2.baidu.com\\/6ONYsjip0QIZ8tyhnq\",\"play.baidu.com\":\"dss3.baidu.com\\/5LgHhXSm2Q5IlBGlnYG\",\"olime.baidu.com\":\"sp0.baidu.com\\/8bg4cTva2gU2pMbgoY3K\",\"i.baidu.com\":\"sp0.baidu.com\\/74oIbT3kAMgDnd_\",\"c.baidu.com\":\"sp0.baidu.com\\/9foIbT3kAMgDnd_\",\"b1.baidu.com\":\"dss1.baidu.com\\/9uN1bjeh1BF3odCf\",\"nsclick.baidu.com\":\"sp1.baidu.com\\/8qUJcD3n0sgCo2Kml5_Y_D3\",\"b1.bdstatic.com\":\"dss0.bdstatic.com\\/9uN1bjq8AAUYm2zgoY3K\",\"i7.baidu.com\":\"dss0.baidu.com\\/73F1bjeh1BF3odCf\",\"i8.baidu.com\":\"dss0.baidu.com\\/73x1bjeh1BF3odCf\",\"i9.baidu.com\":\"dss0.baidu.com\\/73t1bjeh1BF3odCf\",\"ecma.bdimg.com\":\"dss1.bdstatic.com\\/-0U0bXSm1A5BphGlnYG\",\"tag.baidu.com\":\"sp1.baidu.com\\/6LMFsjip0QIZ8tyhnq\",\"hw.baidu.com\":\"sp0.baidu.com\\/7KF1bjeh1BF3odCf\",\"opendata.baidu.com\":\"sp0.baidu.com\\/8aQDcjqpAAV3otqbppnN2DJv\",\"open.baidu.com\":\"dss1.baidu.com\\/8aQDcnSm2Q5IlBGlnYG\",\"api.open.baidu.com\":\"sp0.baidu.com\\/9_Q4sjW91Qh3otqbppnN2DJv\",\"xiaodu.baidu.com\":\"sp0.baidu.com\\/yLsHczq6KgQFm2e88IuM_a\",\"s0.nuomi.bdimg.com\":\"dss1.bdstatic.com\\/5eR1ciub_Q63otebn9fN2DJv\",\"s1.nuomi.bdimg.com\":\"dss0.baidu.com\\/5eN1ciub_Q63otebn9fN2DJv\",\"s2.nuomi.bdimg.com\":\"dss2.bdstatic.com\\/5eZ1ciub_Q63otebn9fN2DJv\",\"vse.baidu.com\":\"sp3.baidu.com\\/6qUDsjip0QIZ8tyhnq\",\"himg.bdimg.com\":\"dss1.bdstatic.com\\/7Ls0a8Sm1A5BphGlnYG\",\"ss.bdimg.com\":\"dss1.bdstatic.com\\/5aV1bjqh_Q23odCf\",\"ecmb.bdimg.com\":\"dss0.bdstatic.com\\/-0U0bnSm1A5BphGlnYG\",\"e.su.bdimg.com\":\"dss0.bdstatic.com\\/-4oZeXSm1A5BphGlnYG\",\"sensearch.baidu.com\":\"sp1.baidu.com\\/5b11fzupBgM18t7jm9iCKT-xh_\",\"sestat.baidu.com\":\"sp1.baidu.com\\/5b1ZeDe5KgQFm2e88IuM_a\",\"cdn00.baidu-img.cn\":\"dss0.bdstatic.com\\/9bA1vGba2gU2pMbfm9GUKT-w\",\"cdn01.baidu-img.cn\":\"dss0.bdstatic.com\\/9bA1vGfa2gU2pMbfm9GUKT-w\"}\n};\n\n    var s_session={\n        \"logId\":\"2977853107\",\n        \"seqId\":\"2977853329\",\n        \"sessionId\":\"\",\n        \"debug\":false,\n        \"userTips\":\"{}\",\n        \"curmod\":\"2\",\n        \"firstmod\":\"\",\n        \"logoCode\":false,\n        \"isFesLogo\":false,\n        \"sid\":\"1431_33074_33061_31660_32705_33099_33101_32961_32846\",\n        \"mSid\":\"\",\n        \"sample_value\":\"\",\n        \"isLogin\":false\n    };\n\n            window.__async_strategy = 2;\n\n</script>\n\n<script type=\"text/javascript\" src=\"http://ss.bdimg.com/static/superman/js/lib/jquery-1-edb203c114.10.2.js\"></script>\n\n<script type=\"text/javascript\" src=\"http://ss.bdimg.com/static/superman/js/lib/esl-ef22c5ed31.js\"></script>\n\n<script type=\"text/javascript\">bds.util.domain=function(){var list=$.extend({},s_domain.ssllist);$.each(list,function(i,e){if(list[i].indexOf(\"https://\")<0){list[i]=\"https://\"+list[i]}});var get=function(url){if(s_domain.protocol==\"http:\"){return url}var reg=/^(http[s]?:\\/\\/)?([^\\/]+)(.*)/,matches=url.match(reg);url=list.hasOwnProperty(matches[2])&&list[matches[2]]+matches[3]||url;return url},set=function(kdomain,vdomain){list[kdomain]=vdomain};return{get:get,set:set}}();bds.comm.sugHost=bds.util.domain.get(\n\"http://suggestion.baidu.com/su\");</script>\n<script type=\"text/javascript\">var Cookie={set:function(t,e,o,i,s,n){document.cookie=t+\"=\"+(n?e:escape(e))+(s?\"; expires=\"+s.toGMTString():\"\")+(i?\"; path=\"+i:\"; path=/\")+(o?\"; domain=\"+o:\"\")},get:function(t,e){var o=document.cookie.match(new RegExp(\"(^| )\"+t+\"=([^;]*)(;|$)\"));return null!=o?unescape(o[2]):e},clear:function(t,e,o){this.get(t)&&(document.cookie=t+\"=\"+(e?\"; path=\"+e:\"; path=/\")+(o?\"; domain=\"+o:\"\")+\";expires=Fri, 02-Jan-1970 00:00:00 GMT\")}};!function(){function save(t){var e=[];for(tmpName in options)options.hasOwnProperty(tmpName)&&\"duRobotState\"!==tmpName&&e.push('\"'+tmpName+'\":\"'+options[tmpName]+'\"');var o=\"{\"+e.join(\",\")+\"}\";bds.comm.personalData?$.ajax({url:\"//www.baidu.com/ups/submit/addtips/?product=ps&tips=\"+encodeURIComponent(o)+\"&_r=\"+(new Date).getTime(),success:function(){writeCookie(),\"function\"==typeof t&&t()}}):(writeCookie(),\"function\"==typeof t&&setTimeout(t,0))}function set(t,e){options[t]=e}function get(t){return options[t]}function writeCookie(){if(options.hasOwnProperty(\"sugSet\")){var t=\"0\"==options.sugSet?\"0\":\"3\";clearCookie(\"sug\"),Cookie.set(\"sug\",t,document.domain,\"/\",expire30y)}if(options.hasOwnProperty(\"sugStoreSet\")){var t=0==options.sugStoreSet?\"0\":\"1\";clearCookie(\"sugstore\"),Cookie.set(\"sugstore\",t,document.domain,\"/\",expire30y)}if(options.hasOwnProperty(\"isSwitch\")){var e={0:\"2\",1:\"0\",2:\"1\"},t=e[options.isSwitch];clearCookie(\"ORIGIN\"),Cookie.set(\"ORIGIN\",t,document.domain,\"/\",expire30y)}if(options.hasOwnProperty(\"imeSwitch\")){var t=options.imeSwitch;clearCookie(\"bdime\"),Cookie.set(\"bdime\",t,document.domain,\"/\",expire30y)}}function writeBAIDUID(){var t,e,o,i=Cookie.get(\"BAIDUID\");/FG=(\\d+)/.test(i)&&(e=RegExp.$1),/SL=(\\d+)/.test(i)&&(o=RegExp.$1),/NR=(\\d+)/.test(i)&&(t=RegExp.$1),options.hasOwnProperty(\"resultNum\")&&(t=options.resultNum),options.hasOwnProperty(\"resultLang\")&&(o=options.resultLang),Cookie.set(\"BAIDUID\",i.replace(/:.*$/,\"\")+(\"undefined\"!=typeof o?\":SL=\"+o:\"\")+(\"undefined\"!=typeof t?\":NR=\"+t:\"\")+(\"undefined\"!=typeof e?\":FG=\"+e:\"\"),\".baidu.com\",\"/\",expire30y,!0)}function clearCookie(t){Cookie.clear(t,\"/\"),Cookie.clear(t,\"/\",document.domain),Cookie.clear(t,\"/\",\".\"+document.domain),Cookie.clear(t,\"/\",\".baidu.com\")}function reset(t){options=defaultOptions,save(t)}var defaultOptions={sugSet:1,sugStoreSet:1,isSwitch:1,isJumpHttps:1,imeSwitch:0,resultNum:10,skinOpen:1,resultLang:0,duRobotState:\"000\"},options={},tmpName,expire30y=new Date;expire30y.setTime(expire30y.getTime()+94608e7);try{if(bds&&bds.comm&&bds.comm.personalData){if(\"string\"==typeof bds.comm.personalData&&(bds.comm.personalData=eval(\"(\"+bds.comm.personalData+\")\")),!bds.comm.personalData)return;for(tmpName in bds.comm.personalData)defaultOptions.hasOwnProperty(tmpName)&&bds.comm.personalData.hasOwnProperty(tmpName)&&\"SUCCESS\"==bds.comm.personalData[tmpName].ErrMsg&&(options[tmpName]=bds.comm.personalData[tmpName].value)}try{parseInt(options.resultNum)||delete options.resultNum,parseInt(options.resultLang)||\"0\"==options.resultLang||delete options.resultLang}catch(e){}writeCookie(),\"sugSet\"in options||(options.sugSet=3!=Cookie.get(\"sug\",3)?0:1),\"sugStoreSet\"in options||(options.sugStoreSet=Cookie.get(\"sugstore\",0));var BAIDUID=Cookie.get(\"BAIDUID\");\"resultNum\"in options||(options.resultNum=/NR=(\\d+)/.test(BAIDUID)&&RegExp.$1?parseInt(RegExp.$1):10),\"resultLang\"in options||(options.resultLang=/SL=(\\d+)/.test(BAIDUID)&&RegExp.$1?parseInt(RegExp.$1):0),\"isSwitch\"in options||(options.isSwitch=2==Cookie.get(\"ORIGIN\",0)?0:1==Cookie.get(\"ORIGIN\",0)?2:1),\"imeSwitch\"in options||(options.imeSwitch=Cookie.get(\"bdime\",0))}catch(e){}window.UPS={writeBAIDUID:writeBAIDUID,reset:reset,get:get,set:set,save:save}}(),function(){var t=\"http://s1.bdstatic.com/r/www/cache/static/plugins/every_cookie_4644b13.js\";(\"Mac68K\"==navigator.platform||\"MacPPC\"==navigator.platform||\"Macintosh\"==navigator.platform||\"MacIntel\"==navigator.platform)&&(t=\"http://s1.bdstatic.com/r/www/cache/static/plugins/every_cookie_mac_82990d4.js\"),setTimeout(function(){$.ajax({url:t,cache:!0,dataType:\"script\"})},0);var e=navigator&&navigator.userAgent?navigator.userAgent:\"\",o=document&&document.cookie?document.cookie:\"\",i=!!(e.match(/(msie [2-8])/i)||e.match(/windows.*safari/i)&&!e.match(/chrome/i)||e.match(/(linux.*firefox)/i)||e.match(/Chrome\\/29/i)||e.match(/mac os x.*firefox/i)||o.match(/\\bISSW=1/)||0==UPS.get(\"isSwitch\"));bds&&bds.comm&&(bds.comm.supportis=!i,bds.comm.isui=!0),window.__restart_confirm_timeout=!0,window.__confirm_timeout=8e3,window.__disable_is_guide=!0,window.__disable_swap_to_empty=!0,window.__switch_add_mask=!0;var s=\"http://s1.bdstatic.com/r/www/cache/static/bundles/polyfill_9354efa.js\",n=\"http://s1.bdstatic.com/r/www/cache/static/global/js/all_async_search_7b3d5f7.js\",a=\"/script\";document.write(\"<script src='\"+s+\"'><\"+a+\">\"),document.write(\"<script src='\"+n+\"'><\"+a+\">\"),bds.comm.newindex&&$(window).on(\"index_off\",function(){$('<div class=\"c-tips-container\" id=\"c-tips-container\"></div>').insertAfter(\"#wrapper\"),window.__sample_dynamic_tab&&$(\"#s_tab\").remove()}),bds.comm&&bds.comm.ishome&&Cookie.get(\"H_PS_PSSID\")&&(bds.comm.indexSid=Cookie.get(\"H_PS_PSSID\"));var r=$(document).find(\"#s_tab\").find(\"a\");r&&r.length>0&&r.each(function(t,e){e.innerHTML&&e.innerHTML.match(/新闻/)&&(e.innerHTML=\"资讯\",e.href=\"//www.baidu.com/s?rtt=1&bsst=1&cl=2&tn=news&word=\",e.setAttribute(\"sync\",!0))})}();</script>\n\n<script>\n    if(bds.comm.supportis){\n        window.__restart_confirm_timeout=true;\n        window.__confirm_timeout=8000;\n        window.__disable_is_guide=true;\n        window.__disable_swap_to_empty=true;\n    }\n\n    if(typeof initPreload == \"function\"){\n        initPreload({\n            'isui':true,\n            'index_form':\"#form\",\n            'index_kw':\"#kw\",\n            'result_form':\"#form\",\n            'result_kw':\"#kw\",\n            'isui':true\n        });\n    }\n    else{\n        window._sp_async = undefined;\n\t\tnew Image().src = \"/home/page/data/pageserver?errno=7004&from=superman&_t\" + new Date() * 1;\n    }\n\n</script>\n<script type=\"text/javascript\">(function(){var index_head_css=$(\"#style_super_head_inline\");var index_is_css=$(\"#s_is_index_css\");window.index_links=[];var head_index_css=$(\"head [index]\");window.index_on=function(){s_session.index_off=false};window.index_off=function(){s_session.index_off=true;bds.comm.sIndex=0;$(document.body).attr(\"link\",\"#0000cc\");index_links=[];$(\"head\").find(\"link\").each(function(){if($(this).attr(\"data-for\")!==\"result\"){index_links.push(this);$(this).remove()}});index_is_css.remove()\n;index_head_css.remove();$(\"#head_wrapper\").css(\"width\",\"\");$(\"#kw\").css(\"font-family\",\"\");$(\"head\").append($.decodeHTML($(\"#s_index_off_css\").html()));$(\"head\").append($.decodeHTML($(\"#s_is_result_css\").html()));$(\".s-tips-skin\").remove();$(\".s-skin-container\").remove();$(\"#s_mancard_newmusic\").remove();head_index_css.remove();$(\"#s-hotsearch-wrapper\").remove();$(\"#s_side_wrapper\").remove()}})();</script>\n<script data-for=\"esl-config\">(function(){var amd={keys:{},addPaths:function(opt){if(typeof opt!==\"object\"){return}for(var key in opt){if(opt.hasOwnProperty(key)){opt[key]=opt[key].replace(/(\\.js)/,\"\")}}require.config({paths:opt});$.extend(amd.keys,opt)},addConfig:function(config){if(typeof config!==\"object\"){return}require.config(config);for(var item in config){if(config.hasOwnProperty(item)){if(!amd[item]){amd[item]={}}for(var key in config[item]){if(config[item].hasOwnProperty(key)&&config[item][key]){\namd[item][key]=config[item][key]}}}}}};s_domain.amd=amd;var staticUrl=s_domain.staticUrl+\"static/superman/\"})();</script>\n<!--[if lt IE 9]>\n    <script type=\"text/javascript\" src=\"http://ss.bdimg.com/static/superman/js/polyfill-ie8-30f98ab294.js\"></script>\n<![endif]--> \n\n<script type=\"text/javascript\" src=\"http://ss.bdimg.com/static/superman/js/sbase-0948aa26f1.js\"></script>\n<style type=\"text/css\">.sui-scrollbar-container{position:relative;overflow:hidden}.sui-scrollbar-bar{border-left:1px solid #E1E1E1;border-right:1px solid #E3E3E3;border-top:1px solid #E3E3E3;border-bottom:1px solid #E3E3E3;background:#E3E3E3;width:7px;position:absolute;top:0;right:0;height:100%;cursor:pointer}.sui-scrollbar-slider{border:1px solid #E1E1E1;background:#fff;width:100%;left:-1px;position:absolute;cursor:pointer}</style><script type=\"text/javascript\">F._setMod(\"superui\");F._fileMap({\"/js/ubase_5a7b0933.js\":[\"superui\",\"util/tool\",\"util/emitter\",\"util/dot\",\"util/smDot\",\"component\",\"component/draggable\",\"component/scrollbar\",\"component/dialog\",\"component/tips\",\"component/share\",\"component/share2\",\"component/notify\",\"component/suggestion\",\"component/placeholder\"],\"/js/ubase_unused_addca7b6.js\":[\"component/draggsort\",\"component/draggselect\",\"component/draggdirs\"],\"/css/ubase_9376fdcf.css\":[\"superui.css\",\"dialog.css\",\"tips.css\",\"share.css\",\"scrollbar.css\",\"suggestion.css\"],\"/css/ubase_sync_ac0620ef.css\":[\"scrollbar_sync.css\"],\"/js/utils_65f6f1b7.js\":[\"util/pubsub\"]});</script><script>F._setMod(\"superman\");F._fileMap({\"/js/sbase-0948aa26f1.js\":[\"lib/event.ts\",\"plugin/browser\",\"plugin/strpx\",\"plugin/url\",\"plugin/ajax\",\"plugin/load_file\",\"plugin/string\",\"plugin/stringify\",\"plugin/localstorage\",\"plugin/fn\",\"plugin/easing\",\"plugin/mousewheel\",\"plugin/cookie\",\"lib/base\",\"lib/sbase\",\"lib/class\",\"lib/mod_evt\",\"lib/log\",\"lib/thunder\",\"lib/utils.js\",\"common/user_attr\",\"common/select\",\"common/bottom_layer\"],\"js/polyfill-ie8-30f98ab294.js\":[\"polyfill/object-define-property\",\n\"polyfill/object-keys\"],\"/js/min_super-ce30feac9c.js\":[\"common/result_page\",\"common/image_lazy_load\",\"log/webb.min\",\"log/super_all\",\"lib/carditem_log\",\"ps/log\",\"ps/sindex\",\"ps/sug\",\"ps/fpid\",\"start/super_start\",\"page/info\",\"page/scroll\"],\"/js/super_ext-5de6ed6474.js\":[\"plugin/mousewheel\",\"weather/setting_refresh\",\"weather/setting_ctrl\",\"weather/setting_view\",\"weather/weather_city\"],\"/js/super_load-a97cbd2188.js\":[\"weather/weather_tpl\",\"weather/weather_ctrl\",\"weather/weather_autorefresh\",\n\"start/skin_start\",\"skin/skin_rewrite\",\"mngr/top_layer\",\"mngr/menu_user\",\"mngr/menu_common\",\"mngr/quit_dialog\",\"mngr/top_menunav_new\",\"common/guide_tip\",\"page/page_exp\"],\"/js/skin_layer-26beb397ef.js\":[\"skin/skin_init_new\",\"skin/skin_cut_img\",\"skin/skin_model\",\"skin/skin_nav\",\"skin/skin_page\",\"skin/skin_tools\",\"skin/skin_img\",\"skin/skin_control_new\",\"skin/skin_view\",\"skin/skin_new_upload\",\"skin/skin_setting\",\"skin/skin_preview\",\"skin/skin_defined\",\"skin/skin_opacity\",\"skin/skin_ajax\",\n\"skin/skin_extra\",\"skin/skin_random\"],\"/js/opacity_mod-57b92b76b5.js\":[\"opacity/opacity_tpl\",\"opacity/opacity_action\",\"opacity/opacity_conf\"],\"/js/min_setting-c3f73c1e26.js\":[\"setting/setting_constructor\",\"setting/mod_drag\",\"setting/setting_action\"],\"/js/page_setting-499941684d.js\":[\"log/super_all\",\"setting/page_setting\",\"setting/tab_msg\",\"start/page_setting_start\",\"common/pop\",\"setting/yaohao\",\"msg/const\",\"setting/data_adapter\",\"msg/bind\",\"msg/bind_window\",\"setting/common_setting\"],\n\"/js/s_super_index-855fcfd82e.js\":[\"ps/autohover_input\",\"page/ua_monitor\"],\"/js/min_mt-3df544d11c.js\":[\"msg/const\",\"msg/data_server\",\"msg/data_adapter\"],\"/js/mt_ext-4eee81afe1.js\":[\"msg/index_nav_msg_extend\",\"msg/msg_builder\",\"msg/bind\",\"msg/bind_window\"],\"/js/min_notice-816c20c940.js\":[\"mt/mt_show\",\"mt/mt_msg_constructor\"],\"/js/notice_ext-0bfec0da78.js\":[\"mt/mt_ext\",\"mt/mt_msg_item\",\"mt/mt_msg_operate\"],\"/js/ps/ishttps-8b74cccb13.js\":[\"ps/ishttps\"],\"/js/ps/async-destroy-6fd7287139.js\":[\n\"ps/async-destroy\"],\"/js/lib/exception-13bf584742.js\":[\"lib/exception\"],\"/js/lib/jquery-1-edb203c114.10.2.js\":[\"lib/jquery-1.10.2\"],\"/js/lib/esl-ef22c5ed31.js\":[\"lib/esl\"],\"/js/ps/yc-4c3e9b9cb3.js\":[\"ps/yc\"],\"/js/components/hotsearch-8f112f3361.js\":[\"components/hotsearch\"],\"/js/components/qrcode-da919182da.js\":[\"components/qrcode\"],\"/js/components/nav-c3fe815932.js\":[\"components/nav\"],\"/js/components/tips-e2ceadd14d.js\":[\"components/tips\"],\"/js/components/guide-13c605998f.js\":[\"components/guide\"\n],\"/css/super_ext-36b360db2f.css\":[\"mngr_quit_guid.css\"],\"/css/components/user_quit_dialog-527f3ede74.css\":[\"components/user_quit_dialog.css\"],\"/css/super_min-fe4f97903e.css\":[\"super_init.css\",\"skin.css\",\"super_skin.css\",\"select.css\",\"index_guide.css\"],\"/css/skin/skin_layer-3711b8d9ea.css\":[\"skin/skin_layer.css\"],\"/css/guidetip-b41ed60c8a.css\":[\"guide.css\"],\"/css/nsguide-a66438b784.css\":[\"ns_guide.css\"],\"/css/setting_min-4dae12391e.css\":[\"setting.css\"],\"/css/card_setting-673b2943c1.css\":[\n\"card_setting.css\"],\"/css/page_setting-da9f239ab9.css\":[\"super_setting.css\",\"select.css\",\"setting_msg.css\",\"setting_yaohao.css\",\"pop.css\",\"dialog.css\"],\"/css/mt_min-88763bc1c9.css\":[\"mt_mod.css\",\"index_msg.css\"],\"/css/pages/index-ad5a6fdb7f.css\":[\"pages/index.css\",\"components/qrcode_new.css\"],\"/css/pages/index_result-6cd495e677.css\":[\"pages/index_result.css\"],\"/css/pages/result-7014ae574c.css\":[\"pages/result.css\"],\"/css/pages/ps-5a13cea402.css\":[\"pages/ps.css\",\"grid/grid.css\"],\n\"/css/weather/weather_new-5585ee28ba.css\":[\"weather/weather_new.css\",\"weather/weather_setting_new.css\"],\"/css/pages/common-b3011aca16.css\":[\"components/head_wrapper_new.css\",\"s_top_wrap_new.css\",\"components/topmenu_new.css\",\"bottom_layer.css\"],\"/css/components/hotsearch-edb10b7749.css\":[\"components/hotsearch.css\"],\"/css/components/nav-c468ec637c.css\":[\"components/nav.css\"]});window._xman_speed=window._xman_speed||{};F._setContext({base:\"lib/sbase\"});F.use(\"lib/mod_evt\",function(evt){\nF._setContextMethod(\"fire\",function(evtName,evtArgs){return evt.fire(this.svnMod+\":\"+this.modName,evtName,evtArgs)});F._setContextMethod(\"listen\",function(modName,evtName,handler){var mType=Object.prototype.toString.call(modName);if(mType==\"[object String]\"){if(modName.indexOf(\":\")<0){modName=this.svnMod+\":\"+modName}}else if(mType==\"[object Array]\"){for(var i=0,len=modName.length;i<len;i++){if(modName[i].indexOf(\":\")<0){modName[i]=this.svnMod+\":\"+modName[i]}}}evt.on(modName,evtName,handler)})\n;F._setContextMethod(\"unListen\",function(modName,evtName,handler){evt.un(this.svnMod+\":\"+this.modName,evtName,handler)})});F._loadScriptTimeout=15e3;F._useConfig=true;F._firstScreenCSS=F._firstScreenCSS||[];F._firstScreenCSS.push(\"/css/super_min-fe4f97903e.css\");F._firstScreenJS=F._firstScreenJS||[];F._firstScreenJS.push(\"/js/min_super-ce30feac9c.js\");</script>\n<script>\n$(window).on(\"load\", function() {\n    var e = $('#virus-2020');\n    e.click(function() {\n        $.setCookie('virus-2020-clicked', '1');\n        e.removeClass('dot');\n    });\n    var hasClicked = $.getCookie && $.getCookie('virus-2020-clicked');\n    if (!hasClicked) {\n        e.addClass('dot');\n    }\n});\n</script>\n    <script src=\"http://ss.bdimg.com/static/superman/js/s_super_index-855fcfd82e.js\"></script>\n    <script src=\"http://ss.bdimg.com/static/superman/js/min_super-ce30feac9c.js\"></script>\n     \n                <script>\n        if(navigator.cookieEnabled){\n            document.cookie=\"NOJS=;expires=Sat, 01 Jan 2000 00:00:00 GMT\";\n        }\n        </script>\n            \n\n            <script src=\"http://ss.bdimg.com/static/superman/js/components/hotsearch-8f112f3361.js\"></script>\n    </body>\n        \n\t</html>\n"
     ]
    }
   ],
   "source": [
    "import urllib.request\n",
    "\n",
    "response = urllib.request.urlopen('http://www.baidu.com')\n",
    "print(response.read().decode('utf-8'))"
   ]
  },
  {
   "cell_type": "code",
   "execution_count": null,
   "metadata": {
    "collapsed": false
   },
   "outputs": [],
   "source": [
    "import urllib.parse\n",
    "import urllib.request\n",
    "\n",
    "data = bytes(urllib.parse.urlencode({'word': 'hello'}), encoding='utf8')\n",
    "response = urllib.request.urlopen('http://httpbin.org/post', data=data)\n",
    "print(response.read())"
   ]
  },
  {
   "cell_type": "code",
   "execution_count": null,
   "metadata": {
    "collapsed": false
   },
   "outputs": [],
   "source": [
    "import urllib.request\n",
    "\n",
    "response = urllib.request.urlopen('http://httpbin.org/get', timeout=1)\n",
    "print(response.read())"
   ]
  },
  {
   "cell_type": "code",
   "execution_count": 2,
   "metadata": {
    "collapsed": false
   },
   "outputs": [
    {
     "output_type": "error",
     "ename": "timeout",
     "evalue": "timed out",
     "traceback": [
      "\u001b[0;31m---------------------------------------------------------------------------\u001b[0m",
      "\u001b[0;31mtimeout\u001b[0m                                   Traceback (most recent call last)",
      "\u001b[0;32m<ipython-input-2-c5cd41fd3551>\u001b[0m in \u001b[0;36m<module>\u001b[0;34m\u001b[0m\n\u001b[1;32m      4\u001b[0m \u001b[0;34m\u001b[0m\u001b[0m\n\u001b[1;32m      5\u001b[0m \u001b[0;32mtry\u001b[0m\u001b[0;34m:\u001b[0m\u001b[0;34m\u001b[0m\u001b[0;34m\u001b[0m\u001b[0m\n\u001b[0;32m----> 6\u001b[0;31m     \u001b[0mresponse\u001b[0m \u001b[0;34m=\u001b[0m \u001b[0murllib\u001b[0m\u001b[0;34m.\u001b[0m\u001b[0mrequest\u001b[0m\u001b[0;34m.\u001b[0m\u001b[0murlopen\u001b[0m\u001b[0;34m(\u001b[0m\u001b[0;34m'http://httpbin.org/get'\u001b[0m\u001b[0;34m,\u001b[0m \u001b[0mtimeout\u001b[0m\u001b[0;34m=\u001b[0m\u001b[0;36m0.1\u001b[0m\u001b[0;34m)\u001b[0m\u001b[0;34m\u001b[0m\u001b[0;34m\u001b[0m\u001b[0m\n\u001b[0m\u001b[1;32m      7\u001b[0m \u001b[0;32mexcept\u001b[0m \u001b[0murllib\u001b[0m\u001b[0;34m.\u001b[0m\u001b[0merror\u001b[0m\u001b[0;34m.\u001b[0m\u001b[0mURLError\u001b[0m \u001b[0;32mas\u001b[0m \u001b[0me\u001b[0m\u001b[0;34m:\u001b[0m\u001b[0;34m\u001b[0m\u001b[0;34m\u001b[0m\u001b[0m\n\u001b[1;32m      8\u001b[0m     \u001b[0;32mif\u001b[0m \u001b[0misinstance\u001b[0m\u001b[0;34m(\u001b[0m\u001b[0me\u001b[0m\u001b[0;34m.\u001b[0m\u001b[0mreason\u001b[0m\u001b[0;34m,\u001b[0m \u001b[0msocket\u001b[0m\u001b[0;34m.\u001b[0m\u001b[0mtimeout\u001b[0m\u001b[0;34m)\u001b[0m\u001b[0;34m:\u001b[0m\u001b[0;34m\u001b[0m\u001b[0;34m\u001b[0m\u001b[0m\n",
      "\u001b[0;32m/Library/Developer/CommandLineTools/Library/Frameworks/Python3.framework/Versions/3.8/lib/python3.8/urllib/request.py\u001b[0m in \u001b[0;36murlopen\u001b[0;34m(url, data, timeout, cafile, capath, cadefault, context)\u001b[0m\n\u001b[1;32m    220\u001b[0m     \u001b[0;32melse\u001b[0m\u001b[0;34m:\u001b[0m\u001b[0;34m\u001b[0m\u001b[0;34m\u001b[0m\u001b[0m\n\u001b[1;32m    221\u001b[0m         \u001b[0mopener\u001b[0m \u001b[0;34m=\u001b[0m \u001b[0m_opener\u001b[0m\u001b[0;34m\u001b[0m\u001b[0;34m\u001b[0m\u001b[0m\n\u001b[0;32m--> 222\u001b[0;31m     \u001b[0;32mreturn\u001b[0m \u001b[0mopener\u001b[0m\u001b[0;34m.\u001b[0m\u001b[0mopen\u001b[0m\u001b[0;34m(\u001b[0m\u001b[0murl\u001b[0m\u001b[0;34m,\u001b[0m \u001b[0mdata\u001b[0m\u001b[0;34m,\u001b[0m \u001b[0mtimeout\u001b[0m\u001b[0;34m)\u001b[0m\u001b[0;34m\u001b[0m\u001b[0;34m\u001b[0m\u001b[0m\n\u001b[0m\u001b[1;32m    223\u001b[0m \u001b[0;34m\u001b[0m\u001b[0m\n\u001b[1;32m    224\u001b[0m \u001b[0;32mdef\u001b[0m \u001b[0minstall_opener\u001b[0m\u001b[0;34m(\u001b[0m\u001b[0mopener\u001b[0m\u001b[0;34m)\u001b[0m\u001b[0;34m:\u001b[0m\u001b[0;34m\u001b[0m\u001b[0;34m\u001b[0m\u001b[0m\n",
      "\u001b[0;32m/Library/Developer/CommandLineTools/Library/Frameworks/Python3.framework/Versions/3.8/lib/python3.8/urllib/request.py\u001b[0m in \u001b[0;36mopen\u001b[0;34m(self, fullurl, data, timeout)\u001b[0m\n\u001b[1;32m    523\u001b[0m \u001b[0;34m\u001b[0m\u001b[0m\n\u001b[1;32m    524\u001b[0m         \u001b[0msys\u001b[0m\u001b[0;34m.\u001b[0m\u001b[0maudit\u001b[0m\u001b[0;34m(\u001b[0m\u001b[0;34m'urllib.Request'\u001b[0m\u001b[0;34m,\u001b[0m \u001b[0mreq\u001b[0m\u001b[0;34m.\u001b[0m\u001b[0mfull_url\u001b[0m\u001b[0;34m,\u001b[0m \u001b[0mreq\u001b[0m\u001b[0;34m.\u001b[0m\u001b[0mdata\u001b[0m\u001b[0;34m,\u001b[0m \u001b[0mreq\u001b[0m\u001b[0;34m.\u001b[0m\u001b[0mheaders\u001b[0m\u001b[0;34m,\u001b[0m \u001b[0mreq\u001b[0m\u001b[0;34m.\u001b[0m\u001b[0mget_method\u001b[0m\u001b[0;34m(\u001b[0m\u001b[0;34m)\u001b[0m\u001b[0;34m)\u001b[0m\u001b[0;34m\u001b[0m\u001b[0;34m\u001b[0m\u001b[0m\n\u001b[0;32m--> 525\u001b[0;31m         \u001b[0mresponse\u001b[0m \u001b[0;34m=\u001b[0m \u001b[0mself\u001b[0m\u001b[0;34m.\u001b[0m\u001b[0m_open\u001b[0m\u001b[0;34m(\u001b[0m\u001b[0mreq\u001b[0m\u001b[0;34m,\u001b[0m \u001b[0mdata\u001b[0m\u001b[0;34m)\u001b[0m\u001b[0;34m\u001b[0m\u001b[0;34m\u001b[0m\u001b[0m\n\u001b[0m\u001b[1;32m    526\u001b[0m \u001b[0;34m\u001b[0m\u001b[0m\n\u001b[1;32m    527\u001b[0m         \u001b[0;31m# post-process response\u001b[0m\u001b[0;34m\u001b[0m\u001b[0;34m\u001b[0m\u001b[0;34m\u001b[0m\u001b[0m\n",
      "\u001b[0;32m/Library/Developer/CommandLineTools/Library/Frameworks/Python3.framework/Versions/3.8/lib/python3.8/urllib/request.py\u001b[0m in \u001b[0;36m_open\u001b[0;34m(self, req, data)\u001b[0m\n\u001b[1;32m    540\u001b[0m \u001b[0;34m\u001b[0m\u001b[0m\n\u001b[1;32m    541\u001b[0m         \u001b[0mprotocol\u001b[0m \u001b[0;34m=\u001b[0m \u001b[0mreq\u001b[0m\u001b[0;34m.\u001b[0m\u001b[0mtype\u001b[0m\u001b[0;34m\u001b[0m\u001b[0;34m\u001b[0m\u001b[0m\n\u001b[0;32m--> 542\u001b[0;31m         result = self._call_chain(self.handle_open, protocol, protocol +\n\u001b[0m\u001b[1;32m    543\u001b[0m                                   '_open', req)\n\u001b[1;32m    544\u001b[0m         \u001b[0;32mif\u001b[0m \u001b[0mresult\u001b[0m\u001b[0;34m:\u001b[0m\u001b[0;34m\u001b[0m\u001b[0;34m\u001b[0m\u001b[0m\n",
      "\u001b[0;32m/Library/Developer/CommandLineTools/Library/Frameworks/Python3.framework/Versions/3.8/lib/python3.8/urllib/request.py\u001b[0m in \u001b[0;36m_call_chain\u001b[0;34m(self, chain, kind, meth_name, *args)\u001b[0m\n\u001b[1;32m    500\u001b[0m         \u001b[0;32mfor\u001b[0m \u001b[0mhandler\u001b[0m \u001b[0;32min\u001b[0m \u001b[0mhandlers\u001b[0m\u001b[0;34m:\u001b[0m\u001b[0;34m\u001b[0m\u001b[0;34m\u001b[0m\u001b[0m\n\u001b[1;32m    501\u001b[0m             \u001b[0mfunc\u001b[0m \u001b[0;34m=\u001b[0m \u001b[0mgetattr\u001b[0m\u001b[0;34m(\u001b[0m\u001b[0mhandler\u001b[0m\u001b[0;34m,\u001b[0m \u001b[0mmeth_name\u001b[0m\u001b[0;34m)\u001b[0m\u001b[0;34m\u001b[0m\u001b[0;34m\u001b[0m\u001b[0m\n\u001b[0;32m--> 502\u001b[0;31m             \u001b[0mresult\u001b[0m \u001b[0;34m=\u001b[0m \u001b[0mfunc\u001b[0m\u001b[0;34m(\u001b[0m\u001b[0;34m*\u001b[0m\u001b[0margs\u001b[0m\u001b[0;34m)\u001b[0m\u001b[0;34m\u001b[0m\u001b[0;34m\u001b[0m\u001b[0m\n\u001b[0m\u001b[1;32m    503\u001b[0m             \u001b[0;32mif\u001b[0m \u001b[0mresult\u001b[0m \u001b[0;32mis\u001b[0m \u001b[0;32mnot\u001b[0m \u001b[0;32mNone\u001b[0m\u001b[0;34m:\u001b[0m\u001b[0;34m\u001b[0m\u001b[0;34m\u001b[0m\u001b[0m\n\u001b[1;32m    504\u001b[0m                 \u001b[0;32mreturn\u001b[0m \u001b[0mresult\u001b[0m\u001b[0;34m\u001b[0m\u001b[0;34m\u001b[0m\u001b[0m\n",
      "\u001b[0;32m/Library/Developer/CommandLineTools/Library/Frameworks/Python3.framework/Versions/3.8/lib/python3.8/urllib/request.py\u001b[0m in \u001b[0;36mhttp_open\u001b[0;34m(self, req)\u001b[0m\n\u001b[1;32m   1346\u001b[0m \u001b[0;34m\u001b[0m\u001b[0m\n\u001b[1;32m   1347\u001b[0m     \u001b[0;32mdef\u001b[0m \u001b[0mhttp_open\u001b[0m\u001b[0;34m(\u001b[0m\u001b[0mself\u001b[0m\u001b[0;34m,\u001b[0m \u001b[0mreq\u001b[0m\u001b[0;34m)\u001b[0m\u001b[0;34m:\u001b[0m\u001b[0;34m\u001b[0m\u001b[0;34m\u001b[0m\u001b[0m\n\u001b[0;32m-> 1348\u001b[0;31m         \u001b[0;32mreturn\u001b[0m \u001b[0mself\u001b[0m\u001b[0;34m.\u001b[0m\u001b[0mdo_open\u001b[0m\u001b[0;34m(\u001b[0m\u001b[0mhttp\u001b[0m\u001b[0;34m.\u001b[0m\u001b[0mclient\u001b[0m\u001b[0;34m.\u001b[0m\u001b[0mHTTPConnection\u001b[0m\u001b[0;34m,\u001b[0m \u001b[0mreq\u001b[0m\u001b[0;34m)\u001b[0m\u001b[0;34m\u001b[0m\u001b[0;34m\u001b[0m\u001b[0m\n\u001b[0m\u001b[1;32m   1349\u001b[0m \u001b[0;34m\u001b[0m\u001b[0m\n\u001b[1;32m   1350\u001b[0m     \u001b[0mhttp_request\u001b[0m \u001b[0;34m=\u001b[0m \u001b[0mAbstractHTTPHandler\u001b[0m\u001b[0;34m.\u001b[0m\u001b[0mdo_request_\u001b[0m\u001b[0;34m\u001b[0m\u001b[0;34m\u001b[0m\u001b[0m\n",
      "\u001b[0;32m/Library/Developer/CommandLineTools/Library/Frameworks/Python3.framework/Versions/3.8/lib/python3.8/urllib/request.py\u001b[0m in \u001b[0;36mdo_open\u001b[0;34m(self, http_class, req, **http_conn_args)\u001b[0m\n\u001b[1;32m   1321\u001b[0m             \u001b[0;32mexcept\u001b[0m \u001b[0mOSError\u001b[0m \u001b[0;32mas\u001b[0m \u001b[0merr\u001b[0m\u001b[0;34m:\u001b[0m \u001b[0;31m# timeout error\u001b[0m\u001b[0;34m\u001b[0m\u001b[0;34m\u001b[0m\u001b[0m\n\u001b[1;32m   1322\u001b[0m                 \u001b[0;32mraise\u001b[0m \u001b[0mURLError\u001b[0m\u001b[0;34m(\u001b[0m\u001b[0merr\u001b[0m\u001b[0;34m)\u001b[0m\u001b[0;34m\u001b[0m\u001b[0;34m\u001b[0m\u001b[0m\n\u001b[0;32m-> 1323\u001b[0;31m             \u001b[0mr\u001b[0m \u001b[0;34m=\u001b[0m \u001b[0mh\u001b[0m\u001b[0;34m.\u001b[0m\u001b[0mgetresponse\u001b[0m\u001b[0;34m(\u001b[0m\u001b[0;34m)\u001b[0m\u001b[0;34m\u001b[0m\u001b[0;34m\u001b[0m\u001b[0m\n\u001b[0m\u001b[1;32m   1324\u001b[0m         \u001b[0;32mexcept\u001b[0m\u001b[0;34m:\u001b[0m\u001b[0;34m\u001b[0m\u001b[0;34m\u001b[0m\u001b[0m\n\u001b[1;32m   1325\u001b[0m             \u001b[0mh\u001b[0m\u001b[0;34m.\u001b[0m\u001b[0mclose\u001b[0m\u001b[0;34m(\u001b[0m\u001b[0;34m)\u001b[0m\u001b[0;34m\u001b[0m\u001b[0;34m\u001b[0m\u001b[0m\n",
      "\u001b[0;32m/Library/Developer/CommandLineTools/Library/Frameworks/Python3.framework/Versions/3.8/lib/python3.8/http/client.py\u001b[0m in \u001b[0;36mgetresponse\u001b[0;34m(self)\u001b[0m\n\u001b[1;32m   1320\u001b[0m         \u001b[0;32mtry\u001b[0m\u001b[0;34m:\u001b[0m\u001b[0;34m\u001b[0m\u001b[0;34m\u001b[0m\u001b[0m\n\u001b[1;32m   1321\u001b[0m             \u001b[0;32mtry\u001b[0m\u001b[0;34m:\u001b[0m\u001b[0;34m\u001b[0m\u001b[0;34m\u001b[0m\u001b[0m\n\u001b[0;32m-> 1322\u001b[0;31m                 \u001b[0mresponse\u001b[0m\u001b[0;34m.\u001b[0m\u001b[0mbegin\u001b[0m\u001b[0;34m(\u001b[0m\u001b[0;34m)\u001b[0m\u001b[0;34m\u001b[0m\u001b[0;34m\u001b[0m\u001b[0m\n\u001b[0m\u001b[1;32m   1323\u001b[0m             \u001b[0;32mexcept\u001b[0m \u001b[0mConnectionError\u001b[0m\u001b[0;34m:\u001b[0m\u001b[0;34m\u001b[0m\u001b[0;34m\u001b[0m\u001b[0m\n\u001b[1;32m   1324\u001b[0m                 \u001b[0mself\u001b[0m\u001b[0;34m.\u001b[0m\u001b[0mclose\u001b[0m\u001b[0;34m(\u001b[0m\u001b[0;34m)\u001b[0m\u001b[0;34m\u001b[0m\u001b[0;34m\u001b[0m\u001b[0m\n",
      "\u001b[0;32m/Library/Developer/CommandLineTools/Library/Frameworks/Python3.framework/Versions/3.8/lib/python3.8/http/client.py\u001b[0m in \u001b[0;36mbegin\u001b[0;34m(self)\u001b[0m\n\u001b[1;32m    301\u001b[0m         \u001b[0;31m# read until we get a non-100 response\u001b[0m\u001b[0;34m\u001b[0m\u001b[0;34m\u001b[0m\u001b[0;34m\u001b[0m\u001b[0m\n\u001b[1;32m    302\u001b[0m         \u001b[0;32mwhile\u001b[0m \u001b[0;32mTrue\u001b[0m\u001b[0;34m:\u001b[0m\u001b[0;34m\u001b[0m\u001b[0;34m\u001b[0m\u001b[0m\n\u001b[0;32m--> 303\u001b[0;31m             \u001b[0mversion\u001b[0m\u001b[0;34m,\u001b[0m \u001b[0mstatus\u001b[0m\u001b[0;34m,\u001b[0m \u001b[0mreason\u001b[0m \u001b[0;34m=\u001b[0m \u001b[0mself\u001b[0m\u001b[0;34m.\u001b[0m\u001b[0m_read_status\u001b[0m\u001b[0;34m(\u001b[0m\u001b[0;34m)\u001b[0m\u001b[0;34m\u001b[0m\u001b[0;34m\u001b[0m\u001b[0m\n\u001b[0m\u001b[1;32m    304\u001b[0m             \u001b[0;32mif\u001b[0m \u001b[0mstatus\u001b[0m \u001b[0;34m!=\u001b[0m \u001b[0mCONTINUE\u001b[0m\u001b[0;34m:\u001b[0m\u001b[0;34m\u001b[0m\u001b[0;34m\u001b[0m\u001b[0m\n\u001b[1;32m    305\u001b[0m                 \u001b[0;32mbreak\u001b[0m\u001b[0;34m\u001b[0m\u001b[0;34m\u001b[0m\u001b[0m\n",
      "\u001b[0;32m/Library/Developer/CommandLineTools/Library/Frameworks/Python3.framework/Versions/3.8/lib/python3.8/http/client.py\u001b[0m in \u001b[0;36m_read_status\u001b[0;34m(self)\u001b[0m\n\u001b[1;32m    262\u001b[0m \u001b[0;34m\u001b[0m\u001b[0m\n\u001b[1;32m    263\u001b[0m     \u001b[0;32mdef\u001b[0m \u001b[0m_read_status\u001b[0m\u001b[0;34m(\u001b[0m\u001b[0mself\u001b[0m\u001b[0;34m)\u001b[0m\u001b[0;34m:\u001b[0m\u001b[0;34m\u001b[0m\u001b[0;34m\u001b[0m\u001b[0m\n\u001b[0;32m--> 264\u001b[0;31m         \u001b[0mline\u001b[0m \u001b[0;34m=\u001b[0m \u001b[0mstr\u001b[0m\u001b[0;34m(\u001b[0m\u001b[0mself\u001b[0m\u001b[0;34m.\u001b[0m\u001b[0mfp\u001b[0m\u001b[0;34m.\u001b[0m\u001b[0mreadline\u001b[0m\u001b[0;34m(\u001b[0m\u001b[0m_MAXLINE\u001b[0m \u001b[0;34m+\u001b[0m \u001b[0;36m1\u001b[0m\u001b[0;34m)\u001b[0m\u001b[0;34m,\u001b[0m \u001b[0;34m\"iso-8859-1\"\u001b[0m\u001b[0;34m)\u001b[0m\u001b[0;34m\u001b[0m\u001b[0;34m\u001b[0m\u001b[0m\n\u001b[0m\u001b[1;32m    265\u001b[0m         \u001b[0;32mif\u001b[0m \u001b[0mlen\u001b[0m\u001b[0;34m(\u001b[0m\u001b[0mline\u001b[0m\u001b[0;34m)\u001b[0m \u001b[0;34m>\u001b[0m \u001b[0m_MAXLINE\u001b[0m\u001b[0;34m:\u001b[0m\u001b[0;34m\u001b[0m\u001b[0;34m\u001b[0m\u001b[0m\n\u001b[1;32m    266\u001b[0m             \u001b[0;32mraise\u001b[0m \u001b[0mLineTooLong\u001b[0m\u001b[0;34m(\u001b[0m\u001b[0;34m\"status line\"\u001b[0m\u001b[0;34m)\u001b[0m\u001b[0;34m\u001b[0m\u001b[0;34m\u001b[0m\u001b[0m\n",
      "\u001b[0;32m/Library/Developer/CommandLineTools/Library/Frameworks/Python3.framework/Versions/3.8/lib/python3.8/socket.py\u001b[0m in \u001b[0;36mreadinto\u001b[0;34m(self, b)\u001b[0m\n\u001b[1;32m    667\u001b[0m         \u001b[0;32mwhile\u001b[0m \u001b[0;32mTrue\u001b[0m\u001b[0;34m:\u001b[0m\u001b[0;34m\u001b[0m\u001b[0;34m\u001b[0m\u001b[0m\n\u001b[1;32m    668\u001b[0m             \u001b[0;32mtry\u001b[0m\u001b[0;34m:\u001b[0m\u001b[0;34m\u001b[0m\u001b[0;34m\u001b[0m\u001b[0m\n\u001b[0;32m--> 669\u001b[0;31m                 \u001b[0;32mreturn\u001b[0m \u001b[0mself\u001b[0m\u001b[0;34m.\u001b[0m\u001b[0m_sock\u001b[0m\u001b[0;34m.\u001b[0m\u001b[0mrecv_into\u001b[0m\u001b[0;34m(\u001b[0m\u001b[0mb\u001b[0m\u001b[0;34m)\u001b[0m\u001b[0;34m\u001b[0m\u001b[0;34m\u001b[0m\u001b[0m\n\u001b[0m\u001b[1;32m    670\u001b[0m             \u001b[0;32mexcept\u001b[0m \u001b[0mtimeout\u001b[0m\u001b[0;34m:\u001b[0m\u001b[0;34m\u001b[0m\u001b[0;34m\u001b[0m\u001b[0m\n\u001b[1;32m    671\u001b[0m                 \u001b[0mself\u001b[0m\u001b[0;34m.\u001b[0m\u001b[0m_timeout_occurred\u001b[0m \u001b[0;34m=\u001b[0m \u001b[0;32mTrue\u001b[0m\u001b[0;34m\u001b[0m\u001b[0;34m\u001b[0m\u001b[0m\n",
      "\u001b[0;31mtimeout\u001b[0m: timed out"
     ]
    }
   ],
   "source": [
    "import socket\n",
    "import urllib.request\n",
    "import urllib.error\n",
    "\n",
    "try:\n",
    "    response = urllib.request.urlopen('http://httpbin.org/get', timeout=0.1)\n",
    "except urllib.error.URLError as e:\n",
    "    if isinstance(e.reason, socket.timeout):\n",
    "        print('TIME OUT')"
   ]
  },
  {
   "cell_type": "markdown",
   "metadata": {},
   "source": [
    "## 响应"
   ]
  },
  {
   "cell_type": "markdown",
   "metadata": {},
   "source": [
    "### 响应类型"
   ]
  },
  {
   "cell_type": "code",
   "execution_count": null,
   "metadata": {
    "collapsed": false
   },
   "outputs": [],
   "source": [
    "import urllib.request\n",
    "\n",
    "response = urllib.request.urlopen('https://www.python.org')\n",
    "print(type(response))"
   ]
  },
  {
   "cell_type": "markdown",
   "metadata": {},
   "source": [
    "### 状态码、响应头"
   ]
  },
  {
   "cell_type": "code",
   "execution_count": null,
   "metadata": {
    "collapsed": false,
    "scrolled": true
   },
   "outputs": [],
   "source": [
    "import urllib.request\n",
    "\n",
    "response = urllib.request.urlopen('https://www.python.org')\n",
    "print(response.status)\n",
    "print(response.getheaders())\n",
    "print(response.getheader('Server'))"
   ]
  },
  {
   "cell_type": "code",
   "execution_count": null,
   "metadata": {
    "collapsed": false,
    "scrolled": true
   },
   "outputs": [],
   "source": [
    "import urllib.request\n",
    "\n",
    "response = urllib.request.urlopen('https://www.python.org')\n",
    "print(response.read().decode('utf-8'))"
   ]
  },
  {
   "cell_type": "markdown",
   "metadata": {},
   "source": [
    "## Request"
   ]
  },
  {
   "cell_type": "code",
   "execution_count": null,
   "metadata": {
    "collapsed": false
   },
   "outputs": [],
   "source": [
    "import urllib.request\n",
    "\n",
    "request = urllib.request.Request('https://python.org')\n",
    "response = urllib.request.urlopen(request)\n",
    "print(response.read().decode('utf-8'))"
   ]
  },
  {
   "cell_type": "code",
   "execution_count": null,
   "metadata": {
    "collapsed": false
   },
   "outputs": [],
   "source": [
    "from urllib import request, parse\n",
    "\n",
    "url = 'http://httpbin.org/post'\n",
    "headers = {\n",
    "    'User-Agent': 'Mozilla/4.0 (compatible; MSIE 5.5; Windows NT)',\n",
    "    'Host': 'httpbin.org'\n",
    "}\n",
    "dict = {\n",
    "    'name': 'Germey'\n",
    "}\n",
    "data = bytes(parse.urlencode(dict), encoding='utf8')\n",
    "req = request.Request(url=url, data=data, headers=headers, method='POST')\n",
    "response = request.urlopen(req)\n",
    "print(response.read().decode('utf-8'))"
   ]
  },
  {
   "cell_type": "code",
   "execution_count": null,
   "metadata": {
    "collapsed": false
   },
   "outputs": [],
   "source": [
    "from urllib import request, parse\n",
    "\n",
    "url = 'http://httpbin.org/post'\n",
    "dict = {\n",
    "    'name': 'Germey'\n",
    "}\n",
    "data = bytes(parse.urlencode(dict), encoding='utf8')\n",
    "req = request.Request(url=url, data=data, method='POST')\n",
    "req.add_header('User-Agent', 'Mozilla/4.0 (compatible; MSIE 5.5; Windows NT)')\n",
    "response = request.urlopen(req)\n",
    "print(response.read().decode('utf-8'))"
   ]
  },
  {
   "cell_type": "markdown",
   "metadata": {},
   "source": [
    "## Handler"
   ]
  },
  {
   "cell_type": "markdown",
   "metadata": {},
   "source": [
    "### 代理"
   ]
  },
  {
   "cell_type": "code",
   "execution_count": null,
   "metadata": {
    "collapsed": false
   },
   "outputs": [],
   "source": [
    "import urllib.request\n",
    "\n",
    "proxy_handler = urllib.request.ProxyHandler({\n",
    "    'http': 'http://127.0.0.1:9743',\n",
    "    'https': 'https://127.0.0.1:9743'\n",
    "})\n",
    "opener = urllib.request.build_opener(proxy_handler)\n",
    "response = opener.open('http://httpbin.org/get')\n",
    "print(response.read())"
   ]
  },
  {
   "cell_type": "markdown",
   "metadata": {},
   "source": [
    "### Cookie"
   ]
  },
  {
   "cell_type": "code",
   "execution_count": null,
   "metadata": {
    "collapsed": false
   },
   "outputs": [],
   "source": [
    "import http.cookiejar, urllib.request\n",
    "\n",
    "cookie = http.cookiejar.CookieJar()\n",
    "handler = urllib.request.HTTPCookieProcessor(cookie)\n",
    "opener = urllib.request.build_opener(handler)\n",
    "response = opener.open('http://www.baidu.com')\n",
    "for item in cookie:\n",
    "    print(item.name+\"=\"+item.value)"
   ]
  },
  {
   "cell_type": "code",
   "execution_count": null,
   "metadata": {
    "collapsed": true
   },
   "outputs": [],
   "source": [
    "import http.cookiejar, urllib.request\n",
    "filename = \"cookie.txt\"\n",
    "cookie = http.cookiejar.MozillaCookieJar(filename)\n",
    "handler = urllib.request.HTTPCookieProcessor(cookie)\n",
    "opener = urllib.request.build_opener(handler)\n",
    "response = opener.open('http://www.baidu.com')\n",
    "cookie.save(ignore_discard=True, ignore_expires=True)"
   ]
  },
  {
   "cell_type": "code",
   "execution_count": null,
   "metadata": {
    "collapsed": true
   },
   "outputs": [],
   "source": [
    "import http.cookiejar, urllib.request\n",
    "filename = 'cookie.txt'\n",
    "cookie = http.cookiejar.LWPCookieJar(filename)\n",
    "handler = urllib.request.HTTPCookieProcessor(cookie)\n",
    "opener = urllib.request.build_opener(handler)\n",
    "response = opener.open('http://www.baidu.com')\n",
    "cookie.save(ignore_discard=True, ignore_expires=True)"
   ]
  },
  {
   "cell_type": "code",
   "execution_count": null,
   "metadata": {
    "collapsed": false,
    "scrolled": true
   },
   "outputs": [],
   "source": [
    "import http.cookiejar, urllib.request\n",
    "cookie = http.cookiejar.LWPCookieJar()\n",
    "cookie.load('cookie.txt', ignore_discard=True, ignore_expires=True)\n",
    "handler = urllib.request.HTTPCookieProcessor(cookie)\n",
    "opener = urllib.request.build_opener(handler)\n",
    "response = opener.open('http://www.baidu.com')\n",
    "print(response.read().decode('utf-8'))"
   ]
  },
  {
   "cell_type": "markdown",
   "metadata": {},
   "source": [
    "## 异常处理"
   ]
  },
  {
   "cell_type": "code",
   "execution_count": null,
   "metadata": {
    "collapsed": false
   },
   "outputs": [],
   "source": [
    "from urllib import request, error\n",
    "try:\n",
    "    response = request.urlopen('http://cuiqingcai.com/index.htm')\n",
    "except error.URLError as e:\n",
    "    print(e.reason)"
   ]
  },
  {
   "cell_type": "code",
   "execution_count": null,
   "metadata": {
    "collapsed": false
   },
   "outputs": [],
   "source": [
    "from urllib import request, error\n",
    "\n",
    "try:\n",
    "    response = request.urlopen('http://cuiqingcai.com/index.htm')\n",
    "except error.HTTPError as e:\n",
    "    print(e.reason, e.code, e.headers, sep='\\n')\n",
    "except error.URLError as e:\n",
    "    print(e.reason)\n",
    "else:\n",
    "    print('Request Successfully')"
   ]
  },
  {
   "cell_type": "code",
   "execution_count": null,
   "metadata": {
    "collapsed": false
   },
   "outputs": [],
   "source": [
    "import socket\n",
    "import urllib.request\n",
    "import urllib.error\n",
    "\n",
    "try:\n",
    "    response = urllib.request.urlopen('https://www.baidu.com', timeout=0.01)\n",
    "except urllib.error.URLError as e:\n",
    "    print(type(e.reason))\n",
    "    if isinstance(e.reason, socket.timeout):\n",
    "        print('TIME OUT')"
   ]
  },
  {
   "cell_type": "markdown",
   "metadata": {},
   "source": [
    "## URL解析"
   ]
  },
  {
   "cell_type": "markdown",
   "metadata": {},
   "source": [
    "### urlparse"
   ]
  },
  {
   "cell_type": "raw",
   "metadata": {},
   "source": [
    "urllib.parse.urlparse(urlstring, scheme='', allow_fragments=True)"
   ]
  },
  {
   "cell_type": "code",
   "execution_count": null,
   "metadata": {
    "collapsed": false
   },
   "outputs": [],
   "source": [
    "from urllib.parse import urlparse\n",
    "\n",
    "result = urlparse('http://www.baidu.com/index.html;user?id=5#comment')\n",
    "print(type(result), result)"
   ]
  },
  {
   "cell_type": "code",
   "execution_count": null,
   "metadata": {
    "collapsed": false
   },
   "outputs": [],
   "source": [
    "from urllib.parse import urlparse\n",
    "\n",
    "result = urlparse('www.baidu.com/index.html;user?id=5#comment', scheme='https')\n",
    "print(result)"
   ]
  },
  {
   "cell_type": "code",
   "execution_count": null,
   "metadata": {
    "collapsed": false
   },
   "outputs": [],
   "source": [
    "from urllib.parse import urlparse\n",
    "\n",
    "result = urlparse('http://www.baidu.com/index.html;user?id=5#comment', scheme='https')\n",
    "print(result)"
   ]
  },
  {
   "cell_type": "code",
   "execution_count": null,
   "metadata": {
    "collapsed": false
   },
   "outputs": [],
   "source": [
    "from urllib.parse import urlparse\n",
    "\n",
    "result = urlparse('http://www.baidu.com/index.html;user?id=5#comment', allow_fragments=False)\n",
    "print(result)"
   ]
  },
  {
   "cell_type": "code",
   "execution_count": null,
   "metadata": {
    "collapsed": false
   },
   "outputs": [],
   "source": [
    "from urllib.parse import urlparse\n",
    "\n",
    "result = urlparse('http://www.baidu.com/index.html#comment', allow_fragments=False)\n",
    "print(result)"
   ]
  },
  {
   "cell_type": "markdown",
   "metadata": {},
   "source": [
    "### urlunparse"
   ]
  },
  {
   "cell_type": "code",
   "execution_count": null,
   "metadata": {
    "collapsed": false
   },
   "outputs": [],
   "source": [
    "from urllib.parse import urlunparse\n",
    "\n",
    "data = ['http', 'www.baidu.com', 'index.html', 'user', 'a=6', 'comment']\n",
    "print(urlunparse(data))"
   ]
  },
  {
   "cell_type": "markdown",
   "metadata": {},
   "source": [
    "### urljoin"
   ]
  },
  {
   "cell_type": "code",
   "execution_count": null,
   "metadata": {
    "collapsed": false
   },
   "outputs": [],
   "source": [
    "from urllib.parse import urljoin\n",
    "\n",
    "print(urljoin('http://www.baidu.com', 'FAQ.html'))\n",
    "print(urljoin('http://www.baidu.com', 'https://cuiqingcai.com/FAQ.html'))\n",
    "print(urljoin('http://www.baidu.com/about.html', 'https://cuiqingcai.com/FAQ.html'))\n",
    "print(urljoin('http://www.baidu.com/about.html', 'https://cuiqingcai.com/FAQ.html?question=2'))\n",
    "print(urljoin('http://www.baidu.com?wd=abc', 'https://cuiqingcai.com/index.php'))\n",
    "print(urljoin('http://www.baidu.com', '?category=2#comment'))\n",
    "print(urljoin('www.baidu.com', '?category=2#comment'))\n",
    "print(urljoin('www.baidu.com#comment', '?category=2'))"
   ]
  },
  {
   "cell_type": "markdown",
   "metadata": {},
   "source": [
    "### urlencode"
   ]
  },
  {
   "cell_type": "code",
   "execution_count": null,
   "metadata": {
    "collapsed": false
   },
   "outputs": [],
   "source": [
    "from urllib.parse import urlencode\n",
    "\n",
    "params = {\n",
    "    'name': 'germey',\n",
    "    'age': 22\n",
    "}\n",
    "base_url = 'http://www.baidu.com?'\n",
    "url = base_url + urlencode(params)\n",
    "print(url)"
   ]
  }
 ],
 "metadata": {
  "kernelspec": {
   "name": "python3",
   "display_name": "Python 3.8.2 64-bit",
   "metadata": {
    "interpreter": {
     "hash": "31f2aee4e71d21fbe5cf8b01ff0e069b9275f58929596ceb00d14d90e3e16cd6"
    }
   }
  },
  "language_info": {
   "codemirror_mode": {
    "name": "ipython",
    "version": 3
   },
   "file_extension": ".py",
   "mimetype": "text/x-python",
   "name": "python",
   "nbconvert_exporter": "python",
   "pygments_lexer": "ipython3",
   "version": "3.8.2-final"
  }
 },
 "nbformat": 4,
 "nbformat_minor": 0
}